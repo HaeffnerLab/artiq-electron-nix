{
 "cells": [
  {
   "cell_type": "code",
   "execution_count": 2,
   "metadata": {
    "scrolled": false
   },
   "outputs": [
    {
     "name": "stdout",
     "output_type": "stream",
     "text": [
      "0.0021008\n",
      "0.0020006399999999997\n"
     ]
    }
   ],
   "source": [
    "import sys\n",
    "import numpy as np\n",
    "import random\n",
    "import matplotlib.pyplot as plt\n",
    "from electron_rigol_class import *\n",
    "from electron_RS_class import *\n",
    "\n",
    "from time import sleep\n",
    "from pylab import *\n",
    "\n",
    "# Rigol\n",
    "# sampling_time = 20.E-9\n",
    "sampling_time = 200.E-9\n",
    "rigol =  rigol(sampling_time)\n",
    "\n",
    "\n",
    "# parameters for the Rigol waveforms\n",
    "pulse_width_ao = 100 * 1.E-6\n",
    "wait_time = 2000.E-6\n",
    "pulse_delay_ao = sampling_time\n",
    "\n",
    "pulse_width_ej = 20.E-9\n",
    "pulse_delay_ej = 2.E-9\n",
    "\n",
    "\n",
    "\n",
    "cycle_duration,wait_time_corr = rigol.run(pulse_width_ao, pulse_delay_ao, pulse_width_ej, pulse_delay_ej, wait_time)\n",
    "print (cycle_duration)\n",
    "print (wait_time_corr)\n",
    "rigol.rigol2(pulse_width_ao, pulse_delay_ao, pulse_width_ej, pulse_delay_ej, wait_time)\n"
   ]
  },
  {
   "cell_type": "code",
   "execution_count": 2,
   "metadata": {},
   "outputs": [
    {
     "name": "stdout",
     "output_type": "stream",
     "text": [
      "Rohde&Schwarz,SMB100A,1406.6000k02/104542,3.0.13.0-2.20.382.35\n"
     ]
    }
   ],
   "source": [
    "rs = RS()\n",
    "rs.run(freq,amp)"
   ]
  },
  {
   "cell_type": "code",
   "execution_count": 4,
   "metadata": {},
   "outputs": [
    {
     "ename": "NameError",
     "evalue": "name 'scanTimeTagger' is not defined",
     "output_type": "error",
     "traceback": [
      "\u001b[1;31m---------------------------------------------------------------------------\u001b[0m",
      "\u001b[1;31mNameError\u001b[0m                                 Traceback (most recent call last)",
      "\u001b[1;32m<ipython-input-4-32f3ad1018fe>\u001b[0m in \u001b[0;36m<module>\u001b[1;34m\u001b[0m\n\u001b[0;32m      1\u001b[0m \u001b[1;33m\u001b[0m\u001b[0m\n\u001b[1;32m----> 2\u001b[1;33m \u001b[0mscanTimeTagger\u001b[0m\u001b[1;33m(\u001b[0m\u001b[1;33m)\u001b[0m\u001b[1;33m\u001b[0m\u001b[1;33m\u001b[0m\u001b[0m\n\u001b[0m\u001b[0;32m      3\u001b[0m \u001b[0mfreeTimeTagger\u001b[0m\u001b[1;33m(\u001b[0m\u001b[0mtagger\u001b[0m\u001b[1;33m)\u001b[0m\u001b[1;33m\u001b[0m\u001b[1;33m\u001b[0m\u001b[0m\n\u001b[0;32m      4\u001b[0m \u001b[0mscanTimeTagger\u001b[0m\u001b[1;33m(\u001b[0m\u001b[1;33m)\u001b[0m\u001b[1;33m\u001b[0m\u001b[1;33m\u001b[0m\u001b[0m\n\u001b[0;32m      5\u001b[0m \u001b[0mtagger\u001b[0m\u001b[1;33m.\u001b[0m\u001b[0mreset\u001b[0m\u001b[1;33m(\u001b[0m\u001b[1;33m)\u001b[0m\u001b[1;33m\u001b[0m\u001b[1;33m\u001b[0m\u001b[0m\n",
      "\u001b[1;31mNameError\u001b[0m: name 'scanTimeTagger' is not defined"
     ]
    }
   ],
   "source": [
    "\n",
    "# scanTimeTagger()\n",
    "# freeTimeTagger(tagger)\n",
    "# scanTimeTagger()\n",
    "# tagger.reset()"
   ]
  },
  {
   "cell_type": "code",
   "execution_count": null,
   "metadata": {},
   "outputs": [],
   "source": []
  }
 ],
 "metadata": {
  "kernelspec": {
   "display_name": "Python 3",
   "language": "python",
   "name": "python3"
  },
  "language_info": {
   "codemirror_mode": {
    "name": "ipython",
    "version": 3
   },
   "file_extension": ".py",
   "mimetype": "text/x-python",
   "name": "python",
   "nbconvert_exporter": "python",
   "pygments_lexer": "ipython3",
   "version": "3.7.3"
  }
 },
 "nbformat": 4,
 "nbformat_minor": 2
}
